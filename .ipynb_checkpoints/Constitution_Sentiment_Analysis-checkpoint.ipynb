{
 "cells": [
  {
   "cell_type": "code",
   "execution_count": 168,
   "metadata": {},
   "outputs": [],
   "source": [
    "import pandas as pd\n",
    "import numpy as np\n",
    "import os\n",
    "import json\n",
    "import requests\n",
    "from bs4 import BeautifulSoup as soup\n",
    "import re\n",
    "import matplotlib.pyplot as plt\n",
    "\n",
    "#basic setup\n",
    "base_dir = '/Users/TheBestKid/Desktop/Happyness'\n",
    "\n",
    "#os.mkdir(os.path.join(base_dir, 'Constiution_Texts'))\n",
    "\n",
    "#get happiness data\n",
    "happiness_2015 = pd.read_csv(os.path.join(base_dir, 'world-happiness/2015.csv'))\n",
    "happiness_2016 = pd.read_csv(os.path.join(base_dir, 'world-happiness/2016.csv'))\n",
    "happiness_2017 = pd.read_csv(os.path.join(base_dir, 'world-happiness/2017.csv'))        "
   ]
  },
  {
   "cell_type": "code",
   "execution_count": null,
   "metadata": {},
   "outputs": [],
   "source": []
  },
  {
   "cell_type": "code",
   "execution_count": 169,
   "metadata": {},
   "outputs": [
    {
     "ename": "KeyboardInterrupt",
     "evalue": "",
     "output_type": "error",
     "traceback": [
      "\u001b[0;31m---------------------------------------------------------------------------\u001b[0m",
      "\u001b[0;31mKeyboardInterrupt\u001b[0m                         Traceback (most recent call last)",
      "\u001b[0;32m<ipython-input-169-febe904647e0>\u001b[0m in \u001b[0;36m<module>\u001b[0;34m\u001b[0m\n\u001b[1;32m     12\u001b[0m \u001b[0;34m\u001b[0m\u001b[0m\n\u001b[1;32m     13\u001b[0m     \u001b[0mreq_string\u001b[0m \u001b[0;34m=\u001b[0m \u001b[0;34m'https://www.constituteproject.org/service/constitutions?country='\u001b[0m \u001b[0;34m+\u001b[0m \u001b[0mre\u001b[0m\u001b[0;34m.\u001b[0m\u001b[0msub\u001b[0m\u001b[0;34m(\u001b[0m\u001b[0;34mr\"\\s+\"\u001b[0m\u001b[0;34m,\u001b[0m \u001b[0;34m\"_\"\u001b[0m\u001b[0;34m,\u001b[0m \u001b[0mc\u001b[0m\u001b[0;34m)\u001b[0m\u001b[0;34m\u001b[0m\u001b[0m\n\u001b[0;32m---> 14\u001b[0;31m     \u001b[0mcountry_info\u001b[0m \u001b[0;34m=\u001b[0m \u001b[0mrequests\u001b[0m\u001b[0;34m.\u001b[0m\u001b[0mget\u001b[0m\u001b[0;34m(\u001b[0m\u001b[0mreq_string\u001b[0m\u001b[0;34m)\u001b[0m\u001b[0;34m\u001b[0m\u001b[0m\n\u001b[0m\u001b[1;32m     15\u001b[0m     \u001b[0mconstitutions_info\u001b[0m\u001b[0;34m.\u001b[0m\u001b[0mappend\u001b[0m\u001b[0;34m(\u001b[0m\u001b[0mjson\u001b[0m\u001b[0;34m.\u001b[0m\u001b[0mloads\u001b[0m\u001b[0;34m(\u001b[0m\u001b[0mcountry_info\u001b[0m\u001b[0;34m.\u001b[0m\u001b[0mtext\u001b[0m\u001b[0;34m)\u001b[0m\u001b[0;34m)\u001b[0m\u001b[0;34m\u001b[0m\u001b[0m\n",
      "\u001b[0;32m/anaconda3/lib/python3.6/site-packages/requests/api.py\u001b[0m in \u001b[0;36mget\u001b[0;34m(url, params, **kwargs)\u001b[0m\n\u001b[1;32m     73\u001b[0m \u001b[0;34m\u001b[0m\u001b[0m\n\u001b[1;32m     74\u001b[0m     \u001b[0mkwargs\u001b[0m\u001b[0;34m.\u001b[0m\u001b[0msetdefault\u001b[0m\u001b[0;34m(\u001b[0m\u001b[0;34m'allow_redirects'\u001b[0m\u001b[0;34m,\u001b[0m \u001b[0;32mTrue\u001b[0m\u001b[0;34m)\u001b[0m\u001b[0;34m\u001b[0m\u001b[0m\n\u001b[0;32m---> 75\u001b[0;31m     \u001b[0;32mreturn\u001b[0m \u001b[0mrequest\u001b[0m\u001b[0;34m(\u001b[0m\u001b[0;34m'get'\u001b[0m\u001b[0;34m,\u001b[0m \u001b[0murl\u001b[0m\u001b[0;34m,\u001b[0m \u001b[0mparams\u001b[0m\u001b[0;34m=\u001b[0m\u001b[0mparams\u001b[0m\u001b[0;34m,\u001b[0m \u001b[0;34m**\u001b[0m\u001b[0mkwargs\u001b[0m\u001b[0;34m)\u001b[0m\u001b[0;34m\u001b[0m\u001b[0m\n\u001b[0m\u001b[1;32m     76\u001b[0m \u001b[0;34m\u001b[0m\u001b[0m\n\u001b[1;32m     77\u001b[0m \u001b[0;34m\u001b[0m\u001b[0m\n",
      "\u001b[0;32m/anaconda3/lib/python3.6/site-packages/requests/api.py\u001b[0m in \u001b[0;36mrequest\u001b[0;34m(method, url, **kwargs)\u001b[0m\n\u001b[1;32m     58\u001b[0m     \u001b[0;31m# cases, and look like a memory leak in others.\u001b[0m\u001b[0;34m\u001b[0m\u001b[0;34m\u001b[0m\u001b[0m\n\u001b[1;32m     59\u001b[0m     \u001b[0;32mwith\u001b[0m \u001b[0msessions\u001b[0m\u001b[0;34m.\u001b[0m\u001b[0mSession\u001b[0m\u001b[0;34m(\u001b[0m\u001b[0;34m)\u001b[0m \u001b[0;32mas\u001b[0m \u001b[0msession\u001b[0m\u001b[0;34m:\u001b[0m\u001b[0;34m\u001b[0m\u001b[0m\n\u001b[0;32m---> 60\u001b[0;31m         \u001b[0;32mreturn\u001b[0m \u001b[0msession\u001b[0m\u001b[0;34m.\u001b[0m\u001b[0mrequest\u001b[0m\u001b[0;34m(\u001b[0m\u001b[0mmethod\u001b[0m\u001b[0;34m=\u001b[0m\u001b[0mmethod\u001b[0m\u001b[0;34m,\u001b[0m \u001b[0murl\u001b[0m\u001b[0;34m=\u001b[0m\u001b[0murl\u001b[0m\u001b[0;34m,\u001b[0m \u001b[0;34m**\u001b[0m\u001b[0mkwargs\u001b[0m\u001b[0;34m)\u001b[0m\u001b[0;34m\u001b[0m\u001b[0m\n\u001b[0m\u001b[1;32m     61\u001b[0m \u001b[0;34m\u001b[0m\u001b[0m\n\u001b[1;32m     62\u001b[0m \u001b[0;34m\u001b[0m\u001b[0m\n",
      "\u001b[0;32m/anaconda3/lib/python3.6/site-packages/requests/sessions.py\u001b[0m in \u001b[0;36mrequest\u001b[0;34m(self, method, url, params, data, headers, cookies, files, auth, timeout, allow_redirects, proxies, hooks, stream, verify, cert, json)\u001b[0m\n\u001b[1;32m    531\u001b[0m         }\n\u001b[1;32m    532\u001b[0m         \u001b[0msend_kwargs\u001b[0m\u001b[0;34m.\u001b[0m\u001b[0mupdate\u001b[0m\u001b[0;34m(\u001b[0m\u001b[0msettings\u001b[0m\u001b[0;34m)\u001b[0m\u001b[0;34m\u001b[0m\u001b[0m\n\u001b[0;32m--> 533\u001b[0;31m         \u001b[0mresp\u001b[0m \u001b[0;34m=\u001b[0m \u001b[0mself\u001b[0m\u001b[0;34m.\u001b[0m\u001b[0msend\u001b[0m\u001b[0;34m(\u001b[0m\u001b[0mprep\u001b[0m\u001b[0;34m,\u001b[0m \u001b[0;34m**\u001b[0m\u001b[0msend_kwargs\u001b[0m\u001b[0;34m)\u001b[0m\u001b[0;34m\u001b[0m\u001b[0m\n\u001b[0m\u001b[1;32m    534\u001b[0m \u001b[0;34m\u001b[0m\u001b[0m\n\u001b[1;32m    535\u001b[0m         \u001b[0;32mreturn\u001b[0m \u001b[0mresp\u001b[0m\u001b[0;34m\u001b[0m\u001b[0m\n",
      "\u001b[0;32m/anaconda3/lib/python3.6/site-packages/requests/sessions.py\u001b[0m in \u001b[0;36msend\u001b[0;34m(self, request, **kwargs)\u001b[0m\n\u001b[1;32m    644\u001b[0m \u001b[0;34m\u001b[0m\u001b[0m\n\u001b[1;32m    645\u001b[0m         \u001b[0;31m# Send the request\u001b[0m\u001b[0;34m\u001b[0m\u001b[0;34m\u001b[0m\u001b[0m\n\u001b[0;32m--> 646\u001b[0;31m         \u001b[0mr\u001b[0m \u001b[0;34m=\u001b[0m \u001b[0madapter\u001b[0m\u001b[0;34m.\u001b[0m\u001b[0msend\u001b[0m\u001b[0;34m(\u001b[0m\u001b[0mrequest\u001b[0m\u001b[0;34m,\u001b[0m \u001b[0;34m**\u001b[0m\u001b[0mkwargs\u001b[0m\u001b[0;34m)\u001b[0m\u001b[0;34m\u001b[0m\u001b[0m\n\u001b[0m\u001b[1;32m    647\u001b[0m \u001b[0;34m\u001b[0m\u001b[0m\n\u001b[1;32m    648\u001b[0m         \u001b[0;31m# Total elapsed time of the request (approximately)\u001b[0m\u001b[0;34m\u001b[0m\u001b[0;34m\u001b[0m\u001b[0m\n",
      "\u001b[0;32m/anaconda3/lib/python3.6/site-packages/requests/adapters.py\u001b[0m in \u001b[0;36msend\u001b[0;34m(self, request, stream, timeout, verify, cert, proxies)\u001b[0m\n\u001b[1;32m    447\u001b[0m                     \u001b[0mdecode_content\u001b[0m\u001b[0;34m=\u001b[0m\u001b[0;32mFalse\u001b[0m\u001b[0;34m,\u001b[0m\u001b[0;34m\u001b[0m\u001b[0m\n\u001b[1;32m    448\u001b[0m                     \u001b[0mretries\u001b[0m\u001b[0;34m=\u001b[0m\u001b[0mself\u001b[0m\u001b[0;34m.\u001b[0m\u001b[0mmax_retries\u001b[0m\u001b[0;34m,\u001b[0m\u001b[0;34m\u001b[0m\u001b[0m\n\u001b[0;32m--> 449\u001b[0;31m                     \u001b[0mtimeout\u001b[0m\u001b[0;34m=\u001b[0m\u001b[0mtimeout\u001b[0m\u001b[0;34m\u001b[0m\u001b[0m\n\u001b[0m\u001b[1;32m    450\u001b[0m                 )\n\u001b[1;32m    451\u001b[0m \u001b[0;34m\u001b[0m\u001b[0m\n",
      "\u001b[0;32m/anaconda3/lib/python3.6/site-packages/urllib3/connectionpool.py\u001b[0m in \u001b[0;36murlopen\u001b[0;34m(self, method, url, body, headers, retries, redirect, assert_same_host, timeout, pool_timeout, release_conn, chunked, body_pos, **response_kw)\u001b[0m\n\u001b[1;32m    598\u001b[0m                                                   \u001b[0mtimeout\u001b[0m\u001b[0;34m=\u001b[0m\u001b[0mtimeout_obj\u001b[0m\u001b[0;34m,\u001b[0m\u001b[0;34m\u001b[0m\u001b[0m\n\u001b[1;32m    599\u001b[0m                                                   \u001b[0mbody\u001b[0m\u001b[0;34m=\u001b[0m\u001b[0mbody\u001b[0m\u001b[0;34m,\u001b[0m \u001b[0mheaders\u001b[0m\u001b[0;34m=\u001b[0m\u001b[0mheaders\u001b[0m\u001b[0;34m,\u001b[0m\u001b[0;34m\u001b[0m\u001b[0m\n\u001b[0;32m--> 600\u001b[0;31m                                                   chunked=chunked)\n\u001b[0m\u001b[1;32m    601\u001b[0m \u001b[0;34m\u001b[0m\u001b[0m\n\u001b[1;32m    602\u001b[0m             \u001b[0;31m# If we're going to release the connection in ``finally:``, then\u001b[0m\u001b[0;34m\u001b[0m\u001b[0;34m\u001b[0m\u001b[0m\n",
      "\u001b[0;32m/anaconda3/lib/python3.6/site-packages/urllib3/connectionpool.py\u001b[0m in \u001b[0;36m_make_request\u001b[0;34m(self, conn, method, url, timeout, chunked, **httplib_request_kw)\u001b[0m\n\u001b[1;32m    341\u001b[0m         \u001b[0;31m# Trigger any extra validation we need to do.\u001b[0m\u001b[0;34m\u001b[0m\u001b[0;34m\u001b[0m\u001b[0m\n\u001b[1;32m    342\u001b[0m         \u001b[0;32mtry\u001b[0m\u001b[0;34m:\u001b[0m\u001b[0;34m\u001b[0m\u001b[0m\n\u001b[0;32m--> 343\u001b[0;31m             \u001b[0mself\u001b[0m\u001b[0;34m.\u001b[0m\u001b[0m_validate_conn\u001b[0m\u001b[0;34m(\u001b[0m\u001b[0mconn\u001b[0m\u001b[0;34m)\u001b[0m\u001b[0;34m\u001b[0m\u001b[0m\n\u001b[0m\u001b[1;32m    344\u001b[0m         \u001b[0;32mexcept\u001b[0m \u001b[0;34m(\u001b[0m\u001b[0mSocketTimeout\u001b[0m\u001b[0;34m,\u001b[0m \u001b[0mBaseSSLError\u001b[0m\u001b[0;34m)\u001b[0m \u001b[0;32mas\u001b[0m \u001b[0me\u001b[0m\u001b[0;34m:\u001b[0m\u001b[0;34m\u001b[0m\u001b[0m\n\u001b[1;32m    345\u001b[0m             \u001b[0;31m# Py2 raises this as a BaseSSLError, Py3 raises it as socket timeout.\u001b[0m\u001b[0;34m\u001b[0m\u001b[0;34m\u001b[0m\u001b[0m\n",
      "\u001b[0;32m/anaconda3/lib/python3.6/site-packages/urllib3/connectionpool.py\u001b[0m in \u001b[0;36m_validate_conn\u001b[0;34m(self, conn)\u001b[0m\n\u001b[1;32m    837\u001b[0m         \u001b[0;31m# Force connect early to allow us to validate the connection.\u001b[0m\u001b[0;34m\u001b[0m\u001b[0;34m\u001b[0m\u001b[0m\n\u001b[1;32m    838\u001b[0m         \u001b[0;32mif\u001b[0m \u001b[0;32mnot\u001b[0m \u001b[0mgetattr\u001b[0m\u001b[0;34m(\u001b[0m\u001b[0mconn\u001b[0m\u001b[0;34m,\u001b[0m \u001b[0;34m'sock'\u001b[0m\u001b[0;34m,\u001b[0m \u001b[0;32mNone\u001b[0m\u001b[0;34m)\u001b[0m\u001b[0;34m:\u001b[0m  \u001b[0;31m# AppEngine might not have  `.sock`\u001b[0m\u001b[0;34m\u001b[0m\u001b[0m\n\u001b[0;32m--> 839\u001b[0;31m             \u001b[0mconn\u001b[0m\u001b[0;34m.\u001b[0m\u001b[0mconnect\u001b[0m\u001b[0;34m(\u001b[0m\u001b[0;34m)\u001b[0m\u001b[0;34m\u001b[0m\u001b[0m\n\u001b[0m\u001b[1;32m    840\u001b[0m \u001b[0;34m\u001b[0m\u001b[0m\n\u001b[1;32m    841\u001b[0m         \u001b[0;32mif\u001b[0m \u001b[0;32mnot\u001b[0m \u001b[0mconn\u001b[0m\u001b[0;34m.\u001b[0m\u001b[0mis_verified\u001b[0m\u001b[0;34m:\u001b[0m\u001b[0;34m\u001b[0m\u001b[0m\n",
      "\u001b[0;32m/anaconda3/lib/python3.6/site-packages/urllib3/connection.py\u001b[0m in \u001b[0;36mconnect\u001b[0;34m(self)\u001b[0m\n\u001b[1;32m    299\u001b[0m     \u001b[0;32mdef\u001b[0m \u001b[0mconnect\u001b[0m\u001b[0;34m(\u001b[0m\u001b[0mself\u001b[0m\u001b[0;34m)\u001b[0m\u001b[0;34m:\u001b[0m\u001b[0;34m\u001b[0m\u001b[0m\n\u001b[1;32m    300\u001b[0m         \u001b[0;31m# Add certificate verification\u001b[0m\u001b[0;34m\u001b[0m\u001b[0;34m\u001b[0m\u001b[0m\n\u001b[0;32m--> 301\u001b[0;31m         \u001b[0mconn\u001b[0m \u001b[0;34m=\u001b[0m \u001b[0mself\u001b[0m\u001b[0;34m.\u001b[0m\u001b[0m_new_conn\u001b[0m\u001b[0;34m(\u001b[0m\u001b[0;34m)\u001b[0m\u001b[0;34m\u001b[0m\u001b[0m\n\u001b[0m\u001b[1;32m    302\u001b[0m         \u001b[0mhostname\u001b[0m \u001b[0;34m=\u001b[0m \u001b[0mself\u001b[0m\u001b[0;34m.\u001b[0m\u001b[0mhost\u001b[0m\u001b[0;34m\u001b[0m\u001b[0m\n\u001b[1;32m    303\u001b[0m \u001b[0;34m\u001b[0m\u001b[0m\n",
      "\u001b[0;32m/anaconda3/lib/python3.6/site-packages/urllib3/connection.py\u001b[0m in \u001b[0;36m_new_conn\u001b[0;34m(self)\u001b[0m\n\u001b[1;32m    157\u001b[0m         \u001b[0;32mtry\u001b[0m\u001b[0;34m:\u001b[0m\u001b[0;34m\u001b[0m\u001b[0m\n\u001b[1;32m    158\u001b[0m             conn = connection.create_connection(\n\u001b[0;32m--> 159\u001b[0;31m                 (self._dns_host, self.port), self.timeout, **extra_kw)\n\u001b[0m\u001b[1;32m    160\u001b[0m \u001b[0;34m\u001b[0m\u001b[0m\n\u001b[1;32m    161\u001b[0m         \u001b[0;32mexcept\u001b[0m \u001b[0mSocketTimeout\u001b[0m \u001b[0;32mas\u001b[0m \u001b[0me\u001b[0m\u001b[0;34m:\u001b[0m\u001b[0;34m\u001b[0m\u001b[0m\n",
      "\u001b[0;32m/anaconda3/lib/python3.6/site-packages/urllib3/util/connection.py\u001b[0m in \u001b[0;36mcreate_connection\u001b[0;34m(address, timeout, source_address, socket_options)\u001b[0m\n\u001b[1;32m     68\u001b[0m             \u001b[0;32mif\u001b[0m \u001b[0msource_address\u001b[0m\u001b[0;34m:\u001b[0m\u001b[0;34m\u001b[0m\u001b[0m\n\u001b[1;32m     69\u001b[0m                 \u001b[0msock\u001b[0m\u001b[0;34m.\u001b[0m\u001b[0mbind\u001b[0m\u001b[0;34m(\u001b[0m\u001b[0msource_address\u001b[0m\u001b[0;34m)\u001b[0m\u001b[0;34m\u001b[0m\u001b[0m\n\u001b[0;32m---> 70\u001b[0;31m             \u001b[0msock\u001b[0m\u001b[0;34m.\u001b[0m\u001b[0mconnect\u001b[0m\u001b[0;34m(\u001b[0m\u001b[0msa\u001b[0m\u001b[0;34m)\u001b[0m\u001b[0;34m\u001b[0m\u001b[0m\n\u001b[0m\u001b[1;32m     71\u001b[0m             \u001b[0;32mreturn\u001b[0m \u001b[0msock\u001b[0m\u001b[0;34m\u001b[0m\u001b[0m\n\u001b[1;32m     72\u001b[0m \u001b[0;34m\u001b[0m\u001b[0m\n",
      "\u001b[0;31mKeyboardInterrupt\u001b[0m: "
     ]
    }
   ],
   "source": [
    "#Get constitution data\n",
    "constitutions_info = []\n",
    "for country in happiness_2017['Country']:\n",
    "    c = country\n",
    "    '''if ' and ' in c:\n",
    "        req_string_1 = 'https://www.constituteproject.org/service/constitutions?country=' + c[0:c.index(' and')]\n",
    "        req_string_2 = 'https://www.constituteproject.org/service/constitutions?country=' + c[(c.index('and')+3):len(c)].strip()\n",
    "        country_info_1 = requests.get(req_string_1)\n",
    "        country_info_2 = requests.get(req_string_2)\n",
    "        constitutions_info.append(json.loads(country_info_1.text))\n",
    "        constitutions_info.append(json.loads(country_info_2.text))'''\n",
    "    \n",
    "    req_string = 'https://www.constituteproject.org/service/constitutions?country=' + re.sub(r\"\\s+\", \"_\", c)\n",
    "    country_info = requests.get(req_string)\n",
    "    constitutions_info.append(json.loads(country_info.text))"
   ]
  },
  {
   "cell_type": "code",
   "execution_count": 170,
   "metadata": {
    "scrolled": false
   },
   "outputs": [],
   "source": [
    "#Get all constitutions and write to a text file\n",
    "texts_dir = os.path.join(base_dir, 'Constitutions')\n",
    "copy_dir = os.path.join(base_dir, 'Copy')\n",
    "#os.mkdir(copy_dir)\n",
    "#os.mkdir(texts_dir)\n",
    "for i in constitutions_info:\n",
    "    if not (i == []):\n",
    "        req_string = 'https://www.constituteproject.org/service/html?cons_id=' + i[0]['id'] + '&lang=en'\n",
    "        con_html = requests.get(req_string)\n",
    "        con_scraper = soup(con_html.text, 'html.parser')\n",
    "        \n",
    "        con_file_path = os.path.join(texts_dir, (i[0]['country'] + '.txt')) \n",
    "        copy_path = os.path.join(copy_dir, (i[0]['country'] + '.txt'))\n",
    "        print(copy_path)\n",
    "        \n",
    "        con_file = open(con_file_path, 'w+')\n",
    "        copy_file = open(copy_path, 'w+')\n",
    "        \n",
    "        text = con_scraper.get_text(strip=True).strip('{\"html\":').replace('\\\\n', '\\n')\n",
    "        con_file.write(text)\n",
    "        copy_file.write(text)\n",
    "        copy_file.close()\n",
    "        con_file.close()"
   ]
  },
  {
   "cell_type": "code",
   "execution_count": 171,
   "metadata": {},
   "outputs": [],
   "source": [
    "drop_rows = []\n",
    "\n",
    "for index, row in happiness_2017.iterrows():\n",
    "    file = os.path.join(texts_dir, re.sub(r\"\\s+\", \"_\", row['Country'] + '.txt'))\n",
    "    if not (os.path.isfile(file)):\n",
    "        \n",
    "        drop_rows.append(index)\n",
    "\n",
    "happiness_2017 = happiness_2017.drop(drop_rows)\n",
    "                \n",
    "        \n",
    "    "
   ]
  },
  {
   "cell_type": "code",
   "execution_count": 172,
   "metadata": {},
   "outputs": [],
   "source": [
    "#Copy original files from copy to edited files in texts_dir\n",
    "\n",
    "for i in os.listdir(copy_dir):\n",
    "    c_f = open(os.path.join(copy_dir, i), 'r')\n",
    "    og = c_f.read()\n",
    "    c_f.close()\n",
    "    \n",
    "    f = open(os.path.join(texts_dir, i), 'w')\n",
    "    f.write(og)\n",
    "    f.close()"
   ]
  },
  {
   "cell_type": "code",
   "execution_count": 52,
   "metadata": {},
   "outputs": [
    {
     "name": "stdout",
     "output_type": "stream",
     "text": [
      "Nepal.txt: 99, 1837(306074)\n",
      "Turkey.txt: 192, 74165(234458)\n",
      "Australia.txt: 92960, 988(120101)\n",
      "Cameroon.txt: 88, 2003(73432)\n",
      "Mozambique.txt: 264, 1799(220742)\n",
      "Brazil.txt: 141, 107796(611132)\n",
      "Benin.txt: 145, 83356(84869)\n",
      "Greece.txt: 86, 237(207456)\n",
      "Sweden.txt: 209, 3980(438530)\n",
      "Burundi.txt: 99, 3442(135754)\n",
      "Belgium.txt: 3997, 11928(156921)\n",
      "Montenegro.txt: 90, 1393(95145)\n",
      ".DS_Store: 0, 200(200)\n",
      "Madagascar.txt: 202, 3989(113406)\n",
      "Ecuador.txt: 111, 1597(439021)\n",
      "Cyprus.txt: 1319, 1553(268732)\n",
      "Gabon.txt: 109, 1295(83175)\n",
      "Libya.txt: 109, 15372(22670)\n",
      "Sierra_Leone.txt: 208, 411(321337)\n",
      "Nigeria.txt: 87, 1087(533599)\n",
      "Senegal.txt: 201, 28124(74499)\n",
      "Malaysia.txt: 205, 481(488339)\n",
      "Panama.txt: 86, 2883(201616)\n",
      "Switzerland.txt: 312, 1225(184358)\n",
      "Hungary.txt: 111, 5065(169602)\n",
      "Iceland.txt: 173, 308(33754)\n",
      "Poland.txt: 86, 2950(169591)\n",
      "Kazakhstan.txt: 90, 759(114398)\n",
      "Argentina.txt: 194, 36879(95163)\n",
      "China.txt: 137, 25584(86115)\n",
      "Venezuela.txt: 289, 13343(278297)\n",
      "Liberia.txt: 75, 2206(86882)\n",
      "Colombia.txt: 241, 16561(403108)\n",
      "Kenya.txt: 73, 1265(436887)\n",
      "Afghanistan.txt: 79, 14847(80287)\n",
      "Guatemala.txt: 219, 1569(229171)\n",
      "Bolivia.txt: 174, 7455(352667)\n",
      "Ghana.txt: 85, 1070(434456)\n",
      "Zambia.txt: 86, 1716(348152)\n",
      "Cambodia.txt: 88, 11003(73635)\n",
      "Angola.txt: 74, 4195(237437)\n",
      "Lesotho.txt: 193, 423(322320)\n",
      "Saudi_Arabia.txt: 169, 1674(54178)\n",
      "Namibia.txt: 87, 2009(210508)\n",
      "Jamaica.txt: 172, 4060(265405)\n",
      "South_Sudan.txt: 115, 2016(228845)\n",
      "Estonia.txt: 87, 7768(85637)\n",
      "Tajikistan.txt: 184, 829(61277)\n",
      "Kyrgyzstan.txt: 90, 1219(128454)\n",
      "New_Zealand.txt: 191, 378(1538074)\n",
      "Tunisia.txt: 101, 41361(49620)\n",
      "Ukraine.txt: 87, 48884(159212)\n",
      "Guinea.txt: 198, 75881(95667)\n",
      "Rwanda.txt: 86, 8099(115785)\n",
      "El_Salvador.txt: 254, 75883(178173)\n",
      "Honduras.txt: 88, 4090(211300)\n",
      "Armenia.txt: 87, 720(173326)\n",
      "Kosovo.txt: 86, 1270(183972)\n",
      "Algeria.txt: 211, 7737(111466)\n",
      "Bosnia_and_Herzegovina.txt: 102, 1703(44066)\n",
      "Chad.txt: 238, 30322(96029)\n",
      "Denmark.txt: 164, 304(48464)\n",
      "Belarus.txt: 87, 881(98827)\n",
      "Italy.txt: 63561, 87305(88735)\n",
      "Zimbabwe.txt: 88, 1741(480905)\n",
      "Sri_Lanka.txt: 89, 2195(493813)\n",
      "Ethiopia.txt: 76, 1984(120810)\n",
      "Georgia.txt: 111, 861(127191)\n",
      "Iraq.txt: 72, 41757(100620)\n",
      "Albania.txt: 87, 1184(198691)\n",
      "Singapore.txt: 171, 334(358239)\n",
      "Lebanon.txt: 282, 22232(49260)\n",
      "India.txt: 109, 925(794132)\n",
      "Peru.txt: 108, 924(144821)\n",
      "Malawi.txt: 86, 875(263271)\n",
      "Croatia.txt: 14627, 18284(102904)\n",
      "Jordan.txt: 86, 446(81997)\n",
      "Egypt.txt: 121, 1630(125904)\n",
      "Trinidad_and_Tobago.txt: 99, 2078(249863)\n",
      "Costa_Rica.txt: 214, 7158(129959)\n",
      "Romania.txt: 185, 436(129152)\n",
      "Lithuania.txt: 89, 26619(105622)\n",
      "Indonesia.txt: 103, 1775(53010)\n",
      "Slovakia.txt: 88, 1348(163846)\n",
      "Slovenia.txt: 88, 9216(85876)\n",
      "Chile.txt: 6714, 6965(196574)\n",
      "Mexico.txt: 136219, 136901(444972)\n",
      "Norway.txt: 200, 422(54139)\n",
      "Morocco.txt: 192, 11569(119687)\n",
      "Botswana.txt: 183, 314(233621)\n",
      "Belize.txt: 86, 3522(308769)\n",
      "Japan.txt: 73, 2103(39014)\n",
      "Malta.txt: 180, 485(250201)\n",
      "Uruguay.txt: 15584, 16859(228444)\n",
      "Ireland.txt: 111, 2024(136484)\n",
      "Burkina_Faso.txt: 233, 38228(79077)\n",
      "Uzbekistan.txt: 114, 29343(82445)\n",
      "Finland.txt: 95, 786(93886)\n",
      "Canada.txt: 1255, 1393(164803)\n",
      "Yemen.txt: 24237, 24289(91103)\n",
      "Qatar.txt: 18010, 18120(54454)\n",
      "Azerbaijan.txt: 90, 1722(154863)\n",
      "Germany.txt: 111, 912(218040)\n",
      "Bhutan.txt: 74, 874(113008)\n",
      "Togo.txt: 201, 2083(81081)\n",
      "Pakistan.txt: 126, 3286(428339)\n",
      "Bulgaria.txt: 88, 943(120450)\n",
      "Mauritania.txt: 238, 2822(57232)\n",
      "Haiti.txt: 229, 18448(167958)\n",
      "Nicaragua.txt: 163, 13813(159085)\n",
      "Turkmenistan.txt: 92, 29611(61962)\n",
      "Myanmar.txt: 99, 3618(348393)\n",
      "Somalia.txt: 107, 561(185375)\n",
      "Uganda.txt: 86, 18475(432077)\n",
      "Austria.txt: 542, 636(372021)\n",
      "South_Africa.txt: 92, 1497(401562)\n",
      "Israel.txt: 202, 339(141141)\n",
      "Latvia.txt: 100, 10900(40714)\n",
      "Serbia.txt: 74, 739(150600)\n",
      "Mali.txt: 195, 1700(60091)\n",
      "Bangladesh.txt: 104, 1681(192488)\n",
      "France.txt: 86, 97281(99419)\n",
      "Thailand.txt: 90, 14697(315398)\n",
      "Kuwait.txt: 89, 45495(65304)\n",
      "Mauritius.txt: 193, 375(279721)\n",
      "Portugal.txt: 88, 1517(310046)\n",
      "Spain.txt: 85, 1299(152607)\n",
      "Paraguay.txt: 212, 1038(211837)\n",
      "Luxembourg.txt: 1240, 1561(50679)\n",
      "Mongolia.txt: 88, 1025(77727)\n",
      "Bahrain.txt: 87, 24769(87132)\n"
     ]
    }
   ],
   "source": [
    "for i in os.listdir(texts_dir):\n",
    "    f = open(os.path.join(texts_dir, i), 'rt', errors='surrogateescape')\n",
    "    preamble = f.read().lower()\n",
    "    start_index = 0\n",
    "    end_index = 200\n",
    "    f.close()\n",
    "    \n",
    "    try:\n",
    "        start_index = preamble.index('preamble')\n",
    "        try:\n",
    "            end_index = preamble.index('1.')\n",
    "        except ValueError:\n",
    "            try:\n",
    "                end_index = preamble.index('article 1')\n",
    "            except ValueError:\n",
    "                pass\n",
    "    except ValueError:\n",
    "        try:\n",
    "            start_index = preamble.index('1.')\n",
    "            end_index = preamble.index('2.')\n",
    "        except ValueError:\n",
    "            try:\n",
    "                start_index = preamble.index('article 1')\n",
    "                end_index = preamble.index('article 2')\n",
    "            except:\n",
    "                pass\n",
    "        \n",
    "    f = open(os.path.join(texts_dir, i), 'wt+', errors='ignore')\n",
    "    pre = preamble[start_index:end_index]\n",
    "    print(i + ': ' + str(start_index) + ', ' + str(end_index) + '(' + str(len(preamble)) + ')')\n",
    "    f.write(pre)\n",
    "    f.close()"
   ]
  },
  {
   "cell_type": "code",
   "execution_count": 196,
   "metadata": {},
   "outputs": [
    {
     "name": "stdout",
     "output_type": "stream",
     "text": [
      " \"  Nepal 2006 (rev. 2012)    Historical                                    Preamble                      WE, THE SOVEREIGNTY AND STATE AUTHORITY INHERENT PEOPLE OF NEPAL,          Respecting the peop\n",
      " \"  Turkey 1982 (rev. 2017)        Some of the 2017 amendments have not yet entered into force; see the final article for more information.                              Preamble                      A\n",
      " \"  Australia 1901 (rev. 1985)                                      Commonwealth of Australia Constitution Act                      An Act to constitute the Commonwealth of Australia          WHEREAS \n",
      " \"  Cameroon 1972 (rev. 2008)                                      Preamble                      We, the people of Cameroon,          Proud of our linguistic and cultural diversity, an enriching featu\n",
      " \"  Mozambique 2004 (rev. 2007)      Subsequently amended    English Translation of amended Article 304 \\u00a9 2012 by William S. Hein & Co., Inc.  All rights reserved.Amendment translated by Jefri J.\n",
      " \"  Brazil 1988 (rev. 2017)        \\u00a9 Keith S. RosennTranslated by Keith S. Rosenn                              Preamble                      We the representatives of the Brazilian People, conven\n",
      " \"  Benin 1990        \\u00a9 Oxford University Press, Inc.Translated by Jessie L. Matthews                              Preamble                      Dahomey, proclaimed a Republic on December 4, 1958\n",
      " \"  Greece 1975 (rev. 2008)                                      Preamble                      In the name of the Holy and Consubstantial and Indivisible Trinity                              PART 1. B\n",
      " \"  Sweden 1974 (rev. 2012)      Subsequently amended                                  The Instrument of Government                                                      Chapter 1. Basic principles of \n",
      " \"  Burundi 2005      Subsequently amended                                  Preamble                      We the people of Burundi,          Conscious of our responsibilities and duties before history\n",
      " \"  Belgium 1831 (rev. 2014)                                      TITLE I. On Federal Belgium, Its Components and its Territory                                          Article 1                      \n",
      " \"  Montenegro 2007 (rev. 2013)                                      Preamble                      Stemming from:          The decision of the citizens of Montenegro to live in an independent and sove\n",
      "\u0000\u0000\u0000\u0001bud1\u0000\u0000\u0010\u0000\u0000\u0000\b\u0000\u0000\u0000\u0010\u0000\u0000\u0000\u0000%\u0000\u0000\u0000\u0000\u0000\u0000\u0000\u0000\u0000\u0000\u0000\u0000\u0000\u0000\u0000\u0000\u0000\u0000\u0000\u0000\u0000\u0000\b\u0000\u0000\u0000\b\u0000\u0000\u0000\u0000\u0000\u0000\u0000\u0000\u0000\u0000\u0000\u0000\u0000\u0000\u0000\u0000\u0000\u0000\u0000\u0000\u0002\u0000\u0000\u0000\u0000\u0000\u0000\u0000\u0000\u0000\u0000\u0000\u0001\u0000\u0000\u0010\u0000\u0000\u0000\u0000\u0000\u0000\u0000\u0000\u0000\u0000\u0000\u0000\u0000\u0000\u0000\u0000\u0000\u0000\u0000\u0000\u0000\u0000\u0000\u0000\u0000\u0000\u0000\u0000\u0000\u0000\u0000\u0000\u0000\u0000\u0000\u0000\u0000\u0000\u0000\u0000\u0000\u0000\u0000\u0000\u0000\u0000\u0000\u0000\u0000\u0000\u0000\u0000\u0000\u0000\u0000\u0000\u0000\u0000\u0000\u0000\u0000\u0000\u0000\u0000\u0000\u0000\u0000\u0000\u0000\u0000\u0000\u0000\u0000\u0000\u0000\u0000\u0000\u0000\u0000\u0000\u0000\u0000\u0000\u0000\u0000\u0000\u0000\u0000\u0000\u0000\u0000\u0000\u0000\u0000\u0000\u0000\u0000\u0000\u0000\u0000\u0000\u0000\u0000\u0000\u0000\u0000\u0000\u0000\u0000\u0000\u0000\u0000\u0000\n",
      " \"  Madagascar 2010        English Translation \\u00a9 2012 by William S. Hein & Co., Inc.  All rights reserved.Translated by Maria del Carmen Gress                              Preamble               \n",
      " \"  Ecuador 2008 (rev. 2015)      Subsequently amended                                  Preamble                      We women and men, the sovereign people of Ecuador          RECOGNIZING our age-old\n",
      " \"  Cyprus 1960 (rev. 2013)      Subsequently amended                                  Part I. GENERAL PROVISIONS                                          Article 1                      The State of C\n",
      " \"  Gabon 1991 (rev. 2011)      Subsequently amended                                  Preamble                      The Gabonese people, conscious of its responsibility before God and history, animate\n",
      " \"  Libya 2011 (rev. 2012)      Subsequently amended                                  Preamble                      In The Name of Allah, the Merciful, the Compassionate          Believing in the Revo\n",
      " \"  Sierra Leone 1991 (reinst. 1996, rev. 2013)                                      CHAPTER I. THE REPUBLIC OF SIERRA LEONE                                                      1. Declaration of Repu\n",
      " \"  Nigeria 1999 (rev. 2011)                                      Preamble                      We the people of the Federal Republic of Nigeria          Having firmly and solemnly resolved:          \n",
      " \"  Senegal 2001 (rev. 2016)        English Translation \\u00a9 2016 by William S. Hein & Co., Inc.  All rights reserved.Translated by J. J. Ruchti                              Preamble                \n",
      " \"  Malaysia 1957 (rev. 2007)                                      PART I. THE STATES, RELIGION AND LAW OF THE FEDERATION                                                      1. Name, States and terri\n",
      " \"  Panama 1972 (rev. 2004)                                      Preamble                      With the ultimate purpose to strengthen the Nation; to guarantee the freedom, ensure democracy and instit\n",
      " \"  Switzerland 1999 (rev. 2014)      Subsequently amended    Text provided by the Swiss Federal Chancellery.English is not an official language of the Swiss Confederation. This translation is provide\n",
      " \"  Hungary 2011 (rev. 2016)      Subsequently amended                                  Preamble                      God bless the Hungarians          NATIONAL AVOWAL          WE, THE MEMBERS OF THE \n",
      " \"  Iceland 1944 (rev. 2013)        2013 amendments translated by Gunnar Tomasson                                                            I.Article 1                      Iceland is a Republic with\n",
      " \"  Poland 1997 (rev. 2009)                                      Preamble                      Having regard for the existence and future of our Homeland,          Which recovered, in 1989, the possib\n",
      " \"  Kazakhstan 1995 (rev. 2017)                                      Preamble                      We, the people of Kazakhstan, united by common historic fate, creating state on the indigenous Kazakh\n",
      " \"  Argentina 1853 (reinst. 1983, rev. 1994)        \\u00a9 Oxford University Press, Inc.Translated by Jonathan M. Miller and Fang-Lian Liao                              Preamble                      W\n",
      " \"  China (People\\u2019s Republic of) 1982 (rev. 2004)      Subsequently amended                                  Preamble                      China is one of the countries with the longest histories\n",
      " \"  Venezuela (Bolivarian Republic of) 1999 (rev. 2009)        English Translation of amended Articles 160, 162, 174, 192, and 230 \\u00a9 2012 by William S. Hein & Co., Inc.  All rights reserved.Amend\n",
      " \"  Liberia 1986                                      Preamble                      We the People of the Republic of Liberia:          Acknowledging our devout gratitude to God for our existence as a \n",
      " \"  Colombia 1991 (rev. 2015)      Subsequently amended    \\u00a9 Oxford University Press, Inc.Translated by Max Planck Institute, with updates by the Comparative Constitutions Project                \n",
      " \"  Kenya 2010                                      Preamble                      We, the people of Kenya -          ACKNOWLEDGING the supremacy of the Almighty God of all creation:          HONOURING\n",
      " \"  Afghanistan 2004                                      Preamble                      \\ufeffIn the name of Allah, the Most Beneficent, the Most Merciful          Praise be to Allah, the Cherisher an\n",
      " \"  Guatemala 1985 (rev. 1993)        English Translation \\u00a9 2012 by William S. Hein & Co., Inc.  All rights reserved.Translated by Luis Francisco Valle Velasco                              Preamb\n",
      " \"  Bolivia (Plurinational State of) 2009        \\u00a9 Oxford University Press, Inc.Translated by Max Planck Institute                              Preamble                      In ancient times moun\n",
      " \"  Ghana 1992 (rev. 1996)                                      Preamble                      IN THE NAME OF THE ALMIGHTY GOD          We the People of Ghana,          IN EXERCISE of our natural and i\n",
      " \"  Zambia 1991 (rev. 2016)                                      Preamble                      WE, THE PEOPLE OF ZAMBIA:          ACKNOWLEDGE the supremacy of God Almighty;          DECLARE the Republ\n",
      " \"  Cambodia 1993 (rev. 2008)                                      Preamble                      WE, THE PEOPLE OF CAMBODIA          Being the heirs of a great civilization, a prosperous, powerful, la\n",
      " \"  Angola 2010                                      Preamble                      We, the people of Angola, through its lawful representatives, the legislators of the nation, freely elected in the pa\n",
      " \"  Lesotho 1993 (rev. 2011)                                      CHAPTER I. THE KINGDOM AND ITS CONSTITUTION                                                      1. The Kingdom and its territory     \n",
      " \"  Saudi Arabia 1992 (rev. 2013)                                      Basic Law                                                      Part 1. General Principles                                        \n",
      " \"  Namibia 1990 (rev. 2014)                                      Preamble                      Whereas recognition of the inherent dignity and of the equal and inalienable rights of all members of th\n",
      " \"  Jamaica 1962 (rev. 2015)                                      CHAPTER I. PRELIMINARY                                                      1. Interpretation                                         \n",
      " \"  South Sudan 2011 (rev. 2013)      Subsequently amended                                  Preamble                      We, the People of South Sudan,          Grateful to the Almighty God for givin\n",
      " \"  Estonia 1992 (rev. 2015)                                      Preamble                      With unwavering faith and a steadfast will to strengthen and develop the state,          which embodies \n",
      " \"  Tajikistan 1994 (rev. 2003)      Subsequently amended    \\u00a9 Oxford University Press, Inc.Translated by Patricie H. Ward                              Preamble                      WE, THE PEOPL\n",
      " \"  Kyrgyzstan 2010 (rev. 2016)                                      Preamble                      We, the people of Kyrgyzstan,                                        Paying tribute to the memory of \n",
      " \"  New Zealand 1852 (rev. 2014)      Subsequently amended                                  Legislature Act 1908                                          Preamble                      An Act to consol\n",
      " \"  Tunisia 1959 (rev. 2008)    Historical                                    Preamble                      In the Name of the people,          We, Habib Bourguiba, President of the Republic of Tunisi\n",
      " \"  Ukraine 1996 (rev. 2016)                                      Preamble                      The Verkhovna Rada of Ukraine, on behalf of the Ukrainian people - citizens of Ukraine of all nationalit\n",
      " \"  Guinea 2010        English Translation \\u00a9 2012 by William S. Hein & Co., Inc.  All rights reserved.Translated by Maria del Carmen Gress                              Preamble                   \n",
      " \"  Rwanda 2003 (rev. 2015)                                      Preamble                      We, the People of Rwanda,          HONOURING our valiant ancestors who sacrificed themselves to found Rwa\n",
      " \"  El Salvador 1983 (rev. 2014)        \\u00a9 Oxford University Press, Inc.Translated by Marcia W. Coward, Milagros M. Gavilan and Reka Koerner, with updates by the Comparative Constitutions Project \n",
      " \"  Honduras 1982 (rev. 2013)                                      Preamble                      We, the representatives elected by the sovereign will of the Honduran people, meeting in the National C\n",
      " \"  Armenia 1995 (rev. 2015)                                      Preamble                      The Armenian People, accepting as a basis the fundamental principles of Armenian statehood and pan-natio\n",
      " \"  Kosovo 2008 (rev. 2016)                                      Preamble                      We, the people of Kosovo,          Determined to build a future of Kosovo as a free, democratic and peace\n",
      " \"  Algeria 1989 (reinst. 1996, rev. 2016)        \\u00a9 Oxford University Press, Inc.Translated by Max Planck Institute, with updates by International IDEA                              Preamble      \n",
      " \"  Bosnia and Herzegovina 1995 (rev. 2009)                                      Preamble                      Based on respect for human dignity, liberty, and equality,          Dedicated to peace, j\n",
      " \"  Chad 1996 (rev. 2015)    Historical      English Translation \\u00a9 2017 by William S. Hein & Co., Inc.  All rights reserved.Translated by Maria del Carmen Gress and J.J. Ruchti                   \n",
      " \"  Denmark 1953                                      Part I                                                                1.This Constitution Act shall apply to all parts of the Kingdom of Denmark. \n",
      " \"  Belarus 1994 (rev. 2004)                                      Preamble                      We, the People of the Republic of Belarus, (of Belarus), proceeding from the responsibility for the pres\n",
      " \"  Italy 1947 (rev. 2012)                                      FUNDAMENTAL PRINCIPLES                                          Art 1                      Italy is a democratic Republic founded on lab\n",
      " \"  Zimbabwe 2013 (rev. 2017)                                      Preamble                      We the people of Zimbabwe,          United in our diversity by our common desire for freedom, justice a\n",
      " \"  Sri Lanka 1978 (rev. 2015)                                      Preamble                      The PEOPLE OF SRI LANKA having, by their Mandate freely expressed and granted on the Sixth day of the \n",
      " \"  Ethiopia 1994                                      Preamble                      We, the Nations, Nationalities and Peoples of Ethiopia:          Strongly committed, in full and free exercise of o\n",
      " \"  Georgia 1995 (rev. 2013)      Subsequently amended                                  Preamble                      We, the citizens of Georgia, whose firm will is to establish a democratic social o\n",
      " \"  Iraq 2005                                      Preamble                      In the name of God, the Most merciful, the Most compassionate          \"We have honored the sons of Adam\"          We, \n",
      " \"  Albania 1998 (rev. 2016)                                      Preamble                      We, the people of Albania, proud and aware of our history,          with responsibility for the future, \n",
      " \"  Singapore 1963 (rev. 2016)                                      PART I. PRELIMINARY                                                      1. Citation                      This Constitution may be c\n",
      " \"  Lebanon 1926 (rev. 2004)        \\u00a9 Oxford University Press, Inc.Translated by Fouad Fahmy Shafik (constitution) and Abed Awad (Law No. 462)                              PART I. BASIC PROVISION\n",
      " \"  India 1949 (rev. 2016)      Subsequently amended                                  Preamble                      WE, THE PEOPLE OF INDIA, having solemnly resolved to constitute India into a SOVEREI\n",
      " \"  Peru 1993 (rev. 2009)      Subsequently amended                                  Preamble                      The Democratic Constituent Congress invoking Almighty God, obeying the mandate of the\n",
      " \"  Malawi 1994 (rev. 2017)                                      Preamble                      THE PEOPLE OF MALAWI\\u2014                                        recognizing the sanctity of human life \n",
      " \"  Croatia 1991 (rev. 2013)                                      I. Historical Foundations                      The millennial identity of the Croatia nation and the continuity of its statehood, conf\n",
      " \"  Jordan 1952 (rev. 2016)                                      Preamble                      We, Talal the First, King of the Hashemite Kingdom of Jordan, in accordance with Article 25 of the Consti\n",
      " \"  Egypt 2012    Historical      Translated by International IDEA                              Preamble                      We, the people of Egypt,          In the name and with the assistance of G\n",
      " \"  Trinidad and Tobago 1976 (rev. 2007)                                      Preamble                      Whereas the People of Trinidad and Tobago\\u2014                                        a.hav\n",
      " \"  Costa Rica 1949 (rev. 2015)        English Translation \\u00a9 2016 by William S. Hein & Co., Inc.  All rights reserved.Translated by Maria del Carmen Gress                              Preamble   \n",
      " \"  Romania 1991 (rev. 2003)                                      TITLE I. GENERAL PRINCIPLES                                                      Article 1. The Romanian State                        \n",
      " \"  Lithuania 1992 (rev. 2006)                                      Preamble                      THE LITHUANIAN NATION          \\u2013 having created the State of Lithuania many centuries ago,       \n",
      " \"  Indonesia 1945 (reinst. 1959, rev. 2002)                                      Preamble                      Whereas independence is the inalienable right of all nations, therefore, all colonialism\n",
      " \"  Slovakia 1992 (rev. 2017)                                      Preamble                      We, the Slovak nation,          bearing in mind the political and cultural heritage of our ancestors an\n",
      " \"  Slovenia 1991 (rev. 2016)                                      Preamble                      Proceeding from the Basic Constitutional Charter on the Sovereignty and Independence of the Republic of\n",
      " \"  Chile 1980 (rev. 2015)      Subsequently amended                                  Chapter I. Bases of Institutionality                                          Article 1                      Perso\n",
      " \"  Mexico 1917 (rev. 2015)      Subsequently amended    Translated for the Comparative Constitutions Project by M. Fernanda Gomez Aban                              TITLE ONE                          \n",
      " \"  Norway 1814 (rev. 2016)      Subsequently amended                                  A. Form of government and religion                                          Article 1                      The Ki\n",
      " \"  Morocco 2011        English Translation \\u00a9 2012 by William S. Hein & Co., Inc.  All rights reserved.Translated by Jefri J. Ruchti                              Preamble                      Wit\n",
      " \"  Botswana 1966 (rev. 2005)                                      CHAPTER I. The Republic (ss 1-2)                                                      1. Declaration of Republic                     \n",
      " \"  Belize 1981 (rev. 2011)                                      Preamble                      WHEREAS the people of Belize-                                        a.affirm that the Nation of Belize s\n",
      " \"  Japan 1946                                      Preamble                      We, the Japanese people, acting through our duly elected representatives in the National Diet, determined that we shal\n",
      " \"  Malta 1964 (rev. 2016)                                      CHAPTER I. The Republic of Malta                                                      1. The Republic and its territories               \n",
      " \"  Uruguay 1966 (reinst. 1985, rev. 2004)        English Translation \\u00a9 2012 by William S. Hein & Co., Inc.  All rights reserved.Amendments translated by Jefri J. Ruchti                          \n",
      " \"  Ireland 1937 (rev. 2015)      Subsequently amended                                  Preamble                      In the Name of the Most Holy Trinity, from Whom is all authority and to Whom, as o\n",
      " \"  Burkina Faso 1991 (rev. 2012)      Subsequently amended    English Translation \\u00a9 2012 by William S. Hein & Co., Inc.  All rights reserved.Translated by Jefri J. Ruchti                        \n",
      " \"  Uzbekistan 1992 (rev. 2011)      Subsequently amended                                  Preamble                      The people of Uzbekistan,          solemnly declaring their adherence to human \n",
      " \"  Finland 1999 (rev. 2011)                                      Chapter 1. Fundamental provisions                                                      Section 1. The Constitution                    \n",
      " \"  Canada 1867 (rev. 2011)                                      CONSTITUTION ACT 1867                      An Act for the Union of Canada, Nova Scotia, and New Brunswick, and the Government thereof; \n",
      " \"  Yemen 1991 (rev. 2015)        The appended 2015 Transitional Declaration was translated by the United Nations                              PART ONE. THE FOUNDATIONS OF STATE                       \n",
      " \"  Qatar 2003        \\u00a9 Oxford University Press, Inc.Translated by Dr. Fouad Fahmy Shafik                              CHAPTER I. THE STATE AND THE PRINCIPLES OF GOVERNING                        \n",
      " \"  Azerbaijan 1995 (rev. 2016)                                      Preamble                      The Azerbaijan people, continuing the traditions of many centuries of their Statehood, guided by the \n",
      " \"  Germany 1949 (rev. 2014)      Subsequently amended                                  Preamble                      Conscious of their responsibility before God and man, Inspired by the determinatio\n",
      " \"  Bhutan 2008                                      Preamble                      WE, the people of Bhutan:          BLESSED by the Triple Gem, the protection of our guardian deities, the wisdom of o\n",
      " \"  Togo 1992 (rev. 2007)        English Translation \\u00a9 2012 by William S. Hein & Co., Inc.  All rights reserved.Translated by Jefri J. Ruchti                              Preamble                \n",
      " \"  Pakistan 1973 (reinst. 2002, rev. 2017)      Subsequently amended                                  Preamble                      Whereas sovereignty over the entire Universe belongs to Almighty Al\n",
      " \"  Bulgaria 1991 (rev. 2015)                                      Preamble                      We, the Members of the Seventh Grand National Assembly, guided by our desire to express the will of the\n",
      " \"  Mauritania 1991 (rev. 2012)      Subsequently amended    English Translation \\u00a9 2012 by William S. Hein & Co., Inc.  All rights reserved.Translated by Maria del Carmen Gress                   \n",
      " \"  Haiti 1987 (rev. 2012)        English Translation \\u00a9 2012 by William S. Hein & Co., Inc.  All rights reserved.Translated by Maria del Carmen Gress and Jefri J. Ruchti                          \n",
      " \"  Nicaragua 1987 (rev. 2014)        \\u00a9 Oxford University Press, Inc.Translated by Max Planck Institute                              Preamble                      WE,          Representatives of \n",
      " \"  Turkmenistan 2008 (rev. 2016)                                      Preamble                      We, the people of Turkmenistan, based on our inalienable right to determine our destiny;          P\n",
      " \"  Myanmar 2008      Subsequently amended                                  Preamble                      Myanmar is a Nation with magnificent historical traditions. We, the National people, have been\n",
      " \"  Somalia 2012      Subsequently amended                                  CHAPTER 1. DECLARATION OF THE FEDERAL REPUBLIC OF SOMALIA                                                      Article 1. Th\n",
      " \"  Uganda 1995 (rev. 2017)                                      Preamble                      WE THE PEOPLE OF UGANDA:          RECALLING our history which has been characterised by political and con\n",
      " \"  Austria 1920 (reinst. 1945, rev. 2013)      Subsequently amended                                  Chapter I. General Provisions. European Union                                                     \n",
      " \"  South Africa 1996 (rev. 2012)                                      Preamble                      We, the people of South Africa,          Recognise the injustices of our past;          Honour thos\n",
      " \"  Israel 1958 (rev. 2013)      Subsequently amended                                  Basic Law. The Knesset (1958)                                                      1. What the Knesset is        \n",
      " \"  Latvia 1922 (reinst. 1991, rev. 2016)                                      Preamble                      The people of Latvia, in freely elected Constitutional Assembly, have adopted the following\n",
      " \"  Serbia 2006                                      Preamble                      Considering the state tradition of the Serbian people and equality of all citizens and ethnic communities in Serbia, \n",
      " \"  Mali 1992        \\u00a9 Oxford University Press, Inc.Translated by Daniel G. Anna, with updates by the Comparative Constitutions Project                              Preamble                      \n",
      " \"  Bangladesh 1972 (reinst. 1986, rev. 2014)                                      Preamble                      We, the people of Bangladesh, having proclaimed our independence on the 26th day of Mar\n",
      " \"  France 1958 (rev. 2008)                                      Preamble                      The French people solemnly proclaim their attachment to the Rights of Man and the principles of national \n",
      " \"  Thailand 2007    Historical                                    Preamble                      Thailand has been under the rule of democratic government with the King as head of the state for more t\n",
      " \"  Kuwait 1962 (reinst. 1992)                                      Preamble                      In the Name of God the Compassionate, the Merciful          We, Abdallah Al Salem Al Sabah, Amir of th\n",
      " \"  Mauritius 1968 (rev. 2016)                                      CHAPTER I. THE STATE AND THE CONSTITUTION                                                      1. The State                      Mau\n",
      " \"  Portugal 1976 (rev. 2005)                                      Preamble                      On the 25th of April 1974 the Armed Forces Movement crowned the long years of resistance and reflected \n",
      " \"  Spain 1978 (rev. 2011)                                      Preamble                      The Spanish Nation, desiring to establish justice, liberty, and security, and to promote the wellbeing of \n",
      " \"  Paraguay 1992 (rev. 2011)        English Translation \\u00a9 2012 by William S. Hein & Co., Inc.  All rights reserved.Translated by Maria del Carmen Gress                              Preamble     \n",
      " \"  Luxembourg 1868 (rev. 2009)        English Translation \\u00a9 2012 by William S. Hein & Co., Inc.  All rights reserved.Translated by Jefri J. Ruchti                              Chapter I. Of the \n",
      " \"  Mongolia 1992 (rev. 2001)                                      Preamble                      We, the people of Mongolia:                                        consolidating and strengthening the \n",
      " \"  Bahrain 2002 (rev. 2017)                                      Preamble                      In the name of God on high, and with His Blessing, and with His help, we Hamad bin Isa Al Khalifa, Sover\n"
     ]
    }
   ],
   "source": [
    "#Remove /n charachters\n",
    "for file in os.listdir(texts_dir):\n",
    "    f = open(os.path.join(texts_dir, file))\n",
    "    text = f.read()\n",
    "    \n",
    "    f.close()\n",
    "    text = text.replace('\\n', '').replace('\\r', '')\n",
    "    print(text[0:200])\n",
    "    \n",
    "    f = open(os.path.join(texts_dir, file), 'w')\n",
    "    f.write(text)\n",
    "    f.close()\n"
   ]
  },
  {
   "cell_type": "code",
   "execution_count": null,
   "metadata": {},
   "outputs": [],
   "source": []
  },
  {
   "cell_type": "code",
   "execution_count": 409,
   "metadata": {},
   "outputs": [],
   "source": [
    "'''train_dir = os.path.join(texts_dir, 'train')\n",
    "try:\n",
    "    os.mkdir(train_dir)\n",
    "except:\n",
    "    print('train_dir exists')'''\n",
    "words = []\n",
    "texts = []\n",
    "labels = []\n",
    "for index, row in happiness_2017.iterrows():\n",
    "    file = open(os.path.join(texts_dir, re.sub(r\"\\s+\", \"_\", row['Country']) + '.txt'), 'r')\n",
    "    labels.append(row['Freedom'])\n",
    "    texts.append(file.read())\n",
    "    file.close()\n",
    "\n"
   ]
  },
  {
   "cell_type": "code",
   "execution_count": 410,
   "metadata": {},
   "outputs": [],
   "source": [
    "import random\n",
    "\n",
    "countries = list(happiness_2017['Country'])\n",
    "combined = list(zip(labels, texts, countries))\n",
    "random.shuffle(combined)\n",
    "\n",
    "\n",
    "labels, texts, countries = zip(*combined)"
   ]
  },
  {
   "cell_type": "code",
   "execution_count": 411,
   "metadata": {},
   "outputs": [
    {
     "name": "stdout",
     "output_type": "stream",
     "text": [
      "('New Zealand', 'Bolivia', 'Mozambique', 'Bangladesh', 'Finland', 'Myanmar', 'Mongolia', 'Albania', 'Azerbaijan', 'Nigeria', 'Armenia', 'Kenya', 'Belize', 'Mali', 'Kyrgyzstan', 'Ghana', 'Somalia', 'Uzbekistan', 'El Salvador', 'Uruguay', 'Estonia', 'Guatemala', 'Ireland', 'Lithuania', 'Togo', 'Spain', 'Libya', 'Switzerland', 'Norway', 'Liberia', 'Mauritius', 'Cyprus', 'Sri Lanka', 'Mexico', 'Belarus', 'Brazil', 'Egypt', 'India', 'Japan', 'Turkmenistan', 'Nepal', 'Romania', 'Cambodia', 'Jamaica', 'Sierra Leone', 'Jordan', 'Malawi', 'Argentina', 'Algeria', 'Paraguay', 'Greece', 'Angola', 'Austria', 'Tajikistan', 'Cameroon', 'Iraq', 'Malta', 'China', 'Bulgaria', 'Malaysia', 'France', 'Gabon', 'South Sudan', 'Canada', 'Zimbabwe', 'Croatia', 'Qatar', 'Benin', 'Serbia', 'Belgium', 'Italy', 'Chile', 'Botswana', 'Zambia', 'Haiti', 'Bosnia and Herzegovina', 'Tunisia', 'Lesotho', 'Afghanistan', 'Panama', 'Poland', 'Lebanon', 'Bhutan', 'Kazakhstan', 'Ukraine', 'Luxembourg', 'Rwanda', 'Montenegro', 'Slovakia', 'Australia', 'Madagascar', 'Trinidad and Tobago', 'Senegal', 'Latvia', 'Guinea', 'Kosovo', 'Burkina Faso', 'Burundi', 'Ethiopia', 'South Africa', 'Honduras', 'Bahrain', 'Namibia', 'Morocco', 'Iceland', 'Sweden', 'Hungary', 'Thailand', 'Uganda', 'Nicaragua', 'Singapore', 'Georgia', 'Israel', 'Mauritania', 'Venezuela', 'Pakistan', 'Yemen', 'Denmark', 'Chad', 'Slovenia', 'Portugal', 'Peru', 'Colombia', 'Turkey', 'Germany', 'Indonesia', 'Saudi Arabia', 'Costa Rica', 'Ecuador', 'Kuwait')\n"
     ]
    }
   ],
   "source": [
    "print(countries)"
   ]
  },
  {
   "cell_type": "code",
   "execution_count": 423,
   "metadata": {
    "scrolled": true
   },
   "outputs": [
    {
     "name": "stdout",
     "output_type": "stream",
     "text": [
      "data shape:  (130, 10000)\n",
      "labels shape:  (130,)\n"
     ]
    }
   ],
   "source": [
    "#Tokenize constitutions\n",
    "from keras.preprocessing.text import Tokenizer\n",
    "from keras.preprocessing.sequence import pad_sequences\n",
    "\n",
    "max_len = 10000\n",
    "train_samples = 90\n",
    "val_samples = 30\n",
    "test_samples = 10\n",
    "\n",
    "tokenizer = Tokenizer(num_words=max_len)\n",
    "tokenizer.fit_on_texts(texts)\n",
    "sequences = tokenizer.texts_to_sequences(texts)\n",
    "word_index = tokenizer.word_index\n",
    "\n",
    "data = pad_sequences(sequences, max_len)\n",
    "\n",
    "\n",
    "labels = np.asarray(labels)\n",
    "print('data shape: ', data.shape)\n",
    "print('labels shape: ', labels.shape)\n",
    "\n",
    "x_train = data[:train_samples]\n",
    "y_train = labels[:train_samples]\n",
    "\n",
    "x_val = data[train_samples:train_samples + val_samples]\n",
    "y_val = labels[train_samples:train_samples + val_samples]\n",
    "\n",
    "x_test = data[train_samples + val_samples:train_samples + val_samples + test_samples]\n",
    "y_test = labels[train_samples + val_samples:train_samples + val_samples + test_samples]\n"
   ]
  },
  {
   "cell_type": "code",
   "execution_count": 417,
   "metadata": {
    "scrolled": false
   },
   "outputs": [
    {
     "data": {
      "text/plain": [
       "(90, 10000)"
      ]
     },
     "execution_count": 417,
     "metadata": {},
     "output_type": "execute_result"
    }
   ],
   "source": [
    "x_train.shape"
   ]
  },
  {
   "cell_type": "code",
   "execution_count": 418,
   "metadata": {},
   "outputs": [
    {
     "name": "stdout",
     "output_type": "stream",
     "text": [
      "found %s word embeddings 400000\n"
     ]
    }
   ],
   "source": [
    "glove_dir = os.path.join(base_dir, 'glove.6B')\n",
    "\n",
    "embedding_index = {}\n",
    "f = open(os.path.join(glove_dir, 'glove.6B.100d.txt'))\n",
    "for line in f:\n",
    "    values = line.split()\n",
    "    word = values[0]\n",
    "    coefs = np.asarray(values[1:], dtype='float32')\n",
    "    embedding_index[word] = coefs\n",
    "f.close()\n",
    "print('found %s word embeddings', len(embedding_index))"
   ]
  },
  {
   "cell_type": "code",
   "execution_count": 419,
   "metadata": {},
   "outputs": [
    {
     "name": "stdout",
     "output_type": "stream",
     "text": [
      "(10000, 100)\n"
     ]
    }
   ],
   "source": [
    "embedding_dim = 100\n",
    "\n",
    "embedding_matrix = np.zeros((max_len, embedding_dim))\n",
    "print(embedding_matrix.shape)\n",
    "for word, i in word_index.items():\n",
    "    if i < max_words:\n",
    "        embedding_vector = embedding_index.get(word)\n",
    "        if embedding_vector is not None:\n",
    "            embedding_matrix[i] = embedding_vector"
   ]
  },
  {
   "cell_type": "code",
   "execution_count": null,
   "metadata": {
    "scrolled": true
   },
   "outputs": [],
   "source": [
    "#Model\n",
    "from keras.models import Sequential\n",
    "import keras.layers as layers\n",
    "def build_model():\n",
    "    model = Sequential()\n",
    "    model.add(layers.Embedding(max_len, embedding_dim, input_length=max_len))\n",
    "    model.add(layers.Conv1D(32, 7, activation='relu'))\n",
    "    model.add(layers.MaxPooling1D(5))\n",
    "    model.add(layers.Conv1D(32, 7, activation='relu'))\n",
    "    model.add(layers.LSTM(32))\n",
    "    model.add(layers.Dense(1))\n",
    "    model.layers[0].set_weights([embedding_matrix])\n",
    "    model.layers[0].trainable = False\n",
    "    model.compile(optimizer='sgd', loss='mse', metrics=['mae'])\n",
    "    return model"
   ]
  },
  {
   "cell_type": "code",
   "execution_count": 328,
   "metadata": {},
   "outputs": [],
   "source": [
    "model.layers[0].set_weights([embedding_matrix])\n",
    "model.layers[0].trainable = False"
   ]
  },
  {
   "cell_type": "code",
   "execution_count": 273,
   "metadata": {
    "scrolled": true
   },
   "outputs": [
    {
     "data": {
      "text/plain": [
       "(90, 10000)"
      ]
     },
     "execution_count": 273,
     "metadata": {},
     "output_type": "execute_result"
    }
   ],
   "source": [
    "x_train.shape"
   ]
  },
  {
   "cell_type": "code",
   "execution_count": null,
   "metadata": {},
   "outputs": [],
   "source": [
    "# Use k-folding\n",
    "k = 5\n",
    "val_samples = len(data) // k\n",
    "epochs = 30\n",
    "all_scores = []\n",
    "\n",
    "for i in range(k):\n",
    "    print('proccessing fold number: ' + str(i) + '\\n')\n",
    "    val_x = data[(i * val_samples):(i+1) * val_samples]\n",
    "    val_y = labels[(i * val_samples):(i+1) * val_samples]\n",
    "    \n",
    "    train_x = np.concatenate(\n",
    "        [data[:i*val_samples],\n",
    "        data[(i+1)*val_samples:]],\n",
    "        axis=0)\n",
    "    \n",
    "    train_y = np.concatenate(\n",
    "        [labels[:i*val_samples],\n",
    "        labels[(i+1)*val_samples:]],\n",
    "        axis=0)\n",
    "    \n",
    "    model = build_model()\n",
    "    model.fit(train_x, train_y, epochs=epochs, batch_size=5)\n",
    "    val_mse, val_mae = model.evaluate(val_x, val_y)\n",
    "    all_scores.append(val_mae)"
   ]
  },
  {
   "cell_type": "code",
   "execution_count": null,
   "metadata": {},
   "outputs": [],
   "source": []
  },
  {
   "cell_type": "code",
   "execution_count": null,
   "metadata": {
    "scrolled": true
   },
   "outputs": [],
   "source": [
    "model = build_model()\n",
    "model.fit(x_train, y_train, epochs=40, batch_size=1, validation_data=(val_x, val_y))\n"
   ]
  },
  {
   "cell_type": "code",
   "execution_count": null,
   "metadata": {},
   "outputs": [],
   "source": [
    "#### average_mae_history"
   ]
  },
  {
   "cell_type": "code",
   "execution_count": 332,
   "metadata": {},
   "outputs": [
    {
     "data": {
      "text/plain": [
       "<function matplotlib.pyplot.show(*args, **kw)>"
      ]
     },
     "execution_count": 332,
     "metadata": {},
     "output_type": "execute_result"
    },
    {
     "data": {
      "image/png": "[encoded data removed]",
      "text/plain": [
       "<Figure size 432x288 with 1 Axes>"
      ]
     },
     "metadata": {
      "needs_background": "light"
     },
     "output_type": "display_data"
    }
   ],
   "source": [
    "plt.plot(range(1, len(average_mae_history) + 1), average_mae_history)\n",
    "plt.xlabel('Epochs')\n",
    "plt.ylabel('Val MAE')\n",
    "plt.show"
   ]
  },
  {
   "cell_type": "code",
   "execution_count": 426,
   "metadata": {},
   "outputs": [
    {
     "name": "stdout",
     "output_type": "stream",
     "text": [
      "\r",
      "10/10 [==============================] - 0s 39ms/step\n"
     ]
    }
   ],
   "source": [
    "#Make a prediction\n",
    "results = model.evaluate(x_test, y_test)"
   ]
  },
  {
   "cell_type": "code",
   "execution_count": 427,
   "metadata": {},
   "outputs": [
    {
     "data": {
      "text/plain": [
       "[0.015522186644375324, 0.10344672203063965]"
      ]
     },
     "execution_count": 427,
     "metadata": {},
     "output_type": "execute_result"
    }
   ],
   "source": [
    "results"
   ]
  },
  {
   "cell_type": "code",
   "execution_count": 428,
   "metadata": {},
   "outputs": [],
   "source": [
    "predict = model.predict(x_test)"
   ]
  },
  {
   "cell_type": "code",
   "execution_count": 429,
   "metadata": {},
   "outputs": [
    {
     "data": {
      "text/plain": [
       "(10, 10000)"
      ]
     },
     "execution_count": 429,
     "metadata": {},
     "output_type": "execute_result"
    }
   ],
   "source": [
    "x_test.shape"
   ]
  },
  {
   "cell_type": "code",
   "execution_count": 430,
   "metadata": {},
   "outputs": [
    {
     "name": "stdout",
     "output_type": "stream",
     "text": [
      "Prediction: 0.39155823, Actual: 0.498465299606323\n",
      "Prediction: 0.40617734, Actual: 0.45000287890434293\n",
      "Prediction: 0.6187569, Actual: 0.47748741507530196\n",
      "Prediction: 0.37323484, Actual: 0.300740599632263\n",
      "Prediction: 0.4474284, Actual: 0.562511384487152\n",
      "Prediction: 0.40819472, Actual: 0.443323463201523\n",
      "Prediction: 0.38255757, Actual: 0.449750572443008\n",
      "Prediction: 0.41240045, Actual: 0.580131649971008\n",
      "Prediction: 0.47726765, Actual: 0.4551981985569\n",
      "Prediction: 0.23357199, Actual: 0.49633759260177596\n"
     ]
    }
   ],
   "source": [
    "predictions = np.zeros(30)\n",
    "\n",
    "for i in range(len(predict)):\n",
    "    predictions[i] = predict[i][0]\n",
    "    abs_errors.append(abs(predict[i][0] - y_test[i]))\n",
    "    print('Prediction: ' + str(predict[i][0]) + ', Actual: ' + str(y_test[i]))"
   ]
  },
  {
   "cell_type": "code",
   "execution_count": 431,
   "metadata": {},
   "outputs": [
    {
     "name": "stdout",
     "output_type": "stream",
     "text": [
      "[0.39155823 0.40617734 0.61875689 0.37323484 0.44742841 0.40819472\n",
      " 0.38255757 0.41240045 0.47726765 0.23357199 0.         0.\n",
      " 0.         0.         0.         0.         0.         0.\n",
      " 0.         0.         0.         0.         0.         0.\n",
      " 0.         0.         0.         0.         0.         0.        ]\n"
     ]
    }
   ],
   "source": [
    "print(predictions)"
   ]
  },
  {
   "cell_type": "code",
   "execution_count": 432,
   "metadata": {},
   "outputs": [
    {
     "name": "stdout",
     "output_type": "stream",
     "text": [
      "[0.4984653  0.45000288 0.47748742 0.3007406  0.56251138 0.44332346\n",
      " 0.44975057 0.58013165 0.4551982  0.49633759]\n"
     ]
    }
   ],
   "source": [
    "print(y_test)"
   ]
  },
  {
   "cell_type": "code",
   "execution_count": 434,
   "metadata": {},
   "outputs": [
    {
     "name": "stdout",
     "output_type": "stream",
     "text": [
      "('Portugal', 'Peru', 'Colombia', 'Turkey', 'Germany', 'Indonesia', 'Saudi Arabia', 'Costa Rica', 'Ecuador', 'Kuwait')\n"
     ]
    }
   ],
   "source": [
    "print(countries[120:130])"
   ]
  },
  {
   "cell_type": "code",
   "execution_count": null,
   "metadata": {},
   "outputs": [],
   "source": []
  }
 ],
 "metadata": {
  "kernelspec": {
   "display_name": "Python 3",
   "language": "python",
   "name": "python3"
  },
  "language_info": {
   "codemirror_mode": {
    "name": "ipython",
    "version": 3
   },
   "file_extension": ".py",
   "mimetype": "text/x-python",
   "name": "python",
   "nbconvert_exporter": "python",
   "pygments_lexer": "ipython3",
   "version": "3.6.5"
  }
 },
 "nbformat": 4,
 "nbformat_minor": 2
}
